{
 "metadata": {
  "language_info": {
   "codemirror_mode": {
    "name": "ipython",
    "version": 3
   },
   "file_extension": ".py",
   "mimetype": "text/x-python",
   "name": "python",
   "nbconvert_exporter": "python",
   "pygments_lexer": "ipython3",
   "version": "3.8.2-final"
  },
  "orig_nbformat": 2,
  "kernelspec": {
   "name": "python38264bita2d336cade4f4d869e1ad770b678c663",
   "display_name": "Python 3.8.2 64-bit"
  }
 },
 "nbformat": 4,
 "nbformat_minor": 2,
 "cells": [
  {
   "cell_type": "code",
   "execution_count": null,
   "metadata": {},
   "outputs": [],
   "source": [
    "import numpy as np"
   ]
  },
  {
   "cell_type": "code",
   "execution_count": null,
   "metadata": {},
   "outputs": [],
   "source": [
    "import numpy as np"
   ]
  },
  {
   "cell_type": "code",
   "execution_count": null,
   "metadata": {
    "tags": []
   },
   "outputs": [],
   "source": [
    "print(\"Hello, notebook!\")"
   ]
  },
  {
   "cell_type": "code",
   "execution_count": null,
   "metadata": {},
   "outputs": [],
   "source": [
    "start_balance = 1500\n",
    "share_price = 1 # EV\n",
    "contrib = 0\n",
    "stock_increase = 10 # % # CAGR\n",
    "n_of_years = 5\n",
    "current_div_yield = 10 # % \n",
    "div_growth = 4 # % # DGR (for 1 share)\n",
    "reinvested = False\n",
    "D_initial = round((current_div_yield / 100) * start_balance, 2) # avg(values of current year) * 4\n",
    "D_final = D_initial"
   ]
  },
  {
   "cell_type": "code",
   "execution_count": null,
   "metadata": {
    "tags": []
   },
   "outputs": [],
   "source": [
    "for _ in range(n_of_years):\n",
    "    shares = round(start_balance / share_price, 3)\n",
    "    growth = round((stock_increase / 100) * start_balance, 2)\n",
    "    end_balance = round(start_balance + contrib * 12 + growth, 2)\n",
    "\n",
    "    if reinvested:\n",
    "        end_balance += D_final\n",
    "\n",
    "    print(f\"{start_balance} - {share_price} - {growth} - {round(D_final, 2)} - {end_balance}\")\n",
    "\n",
    "    prev_balance = start_balance\n",
    "    start_balance = end_balance\n",
    "    share_price = round(share_price + (stock_increase / 100) * share_price, 2)\n",
    "    D_initial = D_final\n",
    "    D_final = (1 + (div_growth / 100)) * D_initial"
   ]
  },
  {
   "cell_type": "code",
   "execution_count": 41,
   "metadata": {},
   "outputs": [],
   "source": [
    "import requests\n"
   ]
  },
  {
   "cell_type": "code",
   "execution_count": 42,
   "metadata": {},
   "outputs": [],
   "source": [
    "API_KEY = \"ULZGI2RS63XODQC4\""
   ]
  },
  {
   "cell_type": "code",
   "execution_count": 43,
   "metadata": {},
   "outputs": [],
   "source": [
    "# For getting dividends\n",
    "URL = f\"https://www.alphavantage.co/query?function=TIME_SERIES_MONTHLY_ADJUSTED&symbol=MMM&outputsize=full&apikey={API_KEY}\""
   ]
  },
  {
   "cell_type": "code",
   "execution_count": 44,
   "metadata": {},
   "outputs": [],
   "source": [
    "response = requests.get(URL)"
   ]
  },
  {
   "cell_type": "code",
   "execution_count": null,
   "metadata": {},
   "outputs": [],
   "source": [
    "response"
   ]
  },
  {
   "cell_type": "code",
   "execution_count": null,
   "metadata": {},
   "outputs": [],
   "source": [
    "response.json()"
   ]
  },
  {
   "cell_type": "code",
   "execution_count": null,
   "metadata": {
    "tags": []
   },
   "outputs": [],
   "source": [
    "print(\"DATA\")"
   ]
  },
  {
   "cell_type": "code",
   "execution_count": 45,
   "metadata": {},
   "outputs": [],
   "source": [
    "import json\n",
    "data = response.json()"
   ]
  },
  {
   "cell_type": "code",
   "execution_count": null,
   "metadata": {},
   "outputs": [],
   "source": []
  },
  {
   "cell_type": "code",
   "execution_count": null,
   "metadata": {},
   "outputs": [],
   "source": [
    "# Saving to a file\n",
    "with open(\"data_3M.json\", \"w\", encoding=\"utf-8\") as f:\n",
    "    f.write(json.dumps(data))"
   ]
  },
  {
   "cell_type": "code",
   "execution_count": 46,
   "metadata": {},
   "outputs": [],
   "source": [
    "data = data[\"Monthly Adjusted Time Series\"]"
   ]
  },
  {
   "cell_type": "code",
   "execution_count": 10,
   "metadata": {},
   "outputs": [
    {
     "output_type": "execute_result",
     "data": {
      "text/plain": "1.47"
     },
     "metadata": {},
     "execution_count": 10
    }
   ],
   "source": [
    "float(data[\"2020-08-31\"][\"7. dividend amount\"])"
   ]
  },
  {
   "cell_type": "code",
   "execution_count": 47,
   "metadata": {},
   "outputs": [],
   "source": [
    "# Only take xdividends\n",
    "xdividends = [x for x in data if float(data[x][\"7. dividend amount\"]) > 0]"
   ]
  },
  {
   "cell_type": "code",
   "execution_count": 48,
   "metadata": {
    "tags": []
   },
   "outputs": [],
   "source": [
    "# Grouping dividends by years\n",
    "from datetime import datetime\n",
    "dividends_by_year = {}\n",
    "\n",
    "for date in data:\n",
    "    dividend = float(data[date][\"7. dividend amount\"])\n",
    "    if dividend > 0:\n",
    "        year = datetime.strptime(date, '%Y-%m-%d').year\n",
    "        if year in dividends_by_year:\n",
    "            dividends_by_year[year].append(dividend)\n",
    "        else:\n",
    "            dividends_by_year[year] = [dividend]"
   ]
  },
  {
   "cell_type": "code",
   "execution_count": 49,
   "metadata": {},
   "outputs": [
    {
     "output_type": "execute_result",
     "data": {
      "text/plain": [
       "{2020: [1.47, 1.47, 1.47],\n",
       " 2019: [1.44, 1.44, 1.44, 1.44],\n",
       " 2018: [1.36, 1.36, 1.36, 1.36],\n",
       " 2017: [1.175, 1.175, 1.175, 1.175],\n",
       " 2016: [1.11, 1.11, 1.11, 1.11],\n",
       " 2015: [1.025, 1.025, 1.025, 1.025],\n",
       " 2014: [0.855, 0.855, 0.855, 0.855],\n",
       " 2013: [0.635, 0.635, 0.635, 0.635],\n",
       " 2012: [0.59, 0.59, 0.59, 0.59],\n",
       " 2011: [0.55, 0.55, 0.55, 0.55],\n",
       " 2010: [0.525, 0.525, 0.525, 0.525],\n",
       " 2009: [0.51, 0.51, 0.51, 0.51],\n",
       " 2008: [0.5, 0.5, 0.5, 0.5],\n",
       " 2007: [0.48, 0.48, 0.48, 0.48],\n",
       " 2006: [0.46, 0.46, 0.46, 0.46],\n",
       " 2005: [0.42, 0.42, 0.42, 0.42],\n",
       " 2004: [0.36, 0.36, 0.36, 0.36],\n",
       " 2003: [0.33, 0.66, 0.66, 0.66],\n",
       " 2002: [0.62, 0.62, 0.62, 0.62],\n",
       " 2001: [0.6, 0.6, 0.6, 0.6],\n",
       " 2000: [0.58, 0.58, 0.58, 0.58]}"
      ]
     },
     "metadata": {},
     "execution_count": 49
    }
   ],
   "source": [
    "dividends_by_year"
   ]
  },
  {
   "cell_type": "code",
   "execution_count": 50,
   "metadata": {},
   "outputs": [],
   "source": [
    "# Find average by years\n",
    "for year in dividends_by_year:\n",
    "    divs = dividends_by_year[year]\n",
    "    dividends_by_year[year] = sum(divs)"
   ]
  },
  {
   "cell_type": "code",
   "execution_count": 51,
   "metadata": {},
   "outputs": [
    {
     "output_type": "execute_result",
     "data": {
      "text/plain": [
       "{2020: 4.41,\n",
       " 2019: 5.76,\n",
       " 2018: 5.44,\n",
       " 2017: 4.7,\n",
       " 2016: 4.44,\n",
       " 2015: 4.1,\n",
       " 2014: 3.42,\n",
       " 2013: 2.54,\n",
       " 2012: 2.36,\n",
       " 2011: 2.2,\n",
       " 2010: 2.1,\n",
       " 2009: 2.04,\n",
       " 2008: 2.0,\n",
       " 2007: 1.92,\n",
       " 2006: 1.84,\n",
       " 2005: 1.68,\n",
       " 2004: 1.44,\n",
       " 2003: 2.31,\n",
       " 2002: 2.48,\n",
       " 2001: 2.4,\n",
       " 2000: 2.32}"
      ]
     },
     "metadata": {},
     "execution_count": 51
    }
   ],
   "source": [
    "dividends_by_year"
   ]
  },
  {
   "cell_type": "code",
   "execution_count": 52,
   "metadata": {
    "tags": []
   },
   "outputs": [],
   "source": [
    "# Finding previos five years dividend growths\n",
    "# 2019-2018, 2018-2017, 2017-2016, 2016-2015, 2015-2014\n",
    "growths = []\n",
    "\n",
    "current_year = datetime.now().year\n",
    "\n",
    "for y in range(current_year - 1, current_year - 6, -1):\n",
    "    # This year\n",
    "    D2 = dividends_by_year[y]\n",
    "    # Prev year\n",
    "    D1 = dividends_by_year[y - 1]\n",
    "    \n",
    "    # Add growth to the growths list\n",
    "    growths.append((D2 / D1) - 1)"
   ]
  },
  {
   "cell_type": "code",
   "execution_count": 53,
   "metadata": {},
   "outputs": [
    {
     "output_type": "execute_result",
     "data": {
      "text/plain": [
       "['5.88%', '15.74%', '5.86%', '8.29%', '19.88%']"
      ]
     },
     "metadata": {},
     "execution_count": 53
    }
   ],
   "source": [
    "# Printing percentages, rounded to 2 decimal places\n",
    "[str(round(100 * x, 2)) + \"%\" for x in growths]"
   ]
  },
  {
   "cell_type": "code",
   "execution_count": 54,
   "metadata": {},
   "outputs": [],
   "source": [
    "# Average of growths\n",
    "DGR = (sum(growths) / len(growths)) * 100"
   ]
  },
  {
   "cell_type": "code",
   "execution_count": 55,
   "metadata": {},
   "outputs": [],
   "source": [
    "import requests\n",
    "\n",
    "URL = \"https://www.alphavantage.co/query?function=TIME_SERIES_MONTHLY_ADJUSTED&symbol=MMM&apikey=ULZGI2RS63XODQC4\"\n",
    "\n"
   ]
  },
  {
   "cell_type": "code",
   "execution_count": 56,
   "metadata": {},
   "outputs": [],
   "source": [
    "data = requests.get(URL)"
   ]
  },
  {
   "cell_type": "code",
   "execution_count": 57,
   "metadata": {},
   "outputs": [],
   "source": [
    "EV = data.json()[\"Monthly Adjusted Time Series\"][\"2020-10-06\"]"
   ]
  },
  {
   "cell_type": "code",
   "execution_count": 58,
   "metadata": {},
   "outputs": [],
   "source": [
    "EV = float(EV[\"5. adjusted close\"])"
   ]
  },
  {
   "cell_type": "code",
   "execution_count": 59,
   "metadata": {},
   "outputs": [
    {
     "output_type": "execute_result",
     "data": {
      "text/plain": [
       "162.23"
      ]
     },
     "metadata": {},
     "execution_count": 59
    }
   ],
   "source": [
    "EV"
   ]
  },
  {
   "cell_type": "code",
   "execution_count": 60,
   "metadata": {},
   "outputs": [],
   "source": [
    "bv_date = None\n",
    "for date in data.json()[\"Monthly Adjusted Time Series\"]:\n",
    "    if \"2015-05\" in date:\n",
    "        bv_date = date\n",
    "        break"
   ]
  },
  {
   "cell_type": "code",
   "execution_count": 61,
   "metadata": {},
   "outputs": [
    {
     "output_type": "execute_result",
     "data": {
      "text/plain": [
       "'2015-05-29'"
      ]
     },
     "metadata": {},
     "execution_count": 61
    }
   ],
   "source": [
    "bv_date"
   ]
  },
  {
   "cell_type": "code",
   "execution_count": 62,
   "metadata": {},
   "outputs": [],
   "source": [
    "BV = data.json()[\"Monthly Adjusted Time Series\"][bv_date]"
   ]
  },
  {
   "cell_type": "code",
   "execution_count": 63,
   "metadata": {},
   "outputs": [],
   "source": [
    "BV = float(BV[\"5. adjusted close\"])"
   ]
  },
  {
   "cell_type": "code",
   "execution_count": 64,
   "metadata": {},
   "outputs": [
    {
     "output_type": "execute_result",
     "data": {
      "text/plain": [
       "136.7821"
      ]
     },
     "metadata": {},
     "execution_count": 64
    }
   ],
   "source": [
    "BV"
   ]
  },
  {
   "cell_type": "code",
   "execution_count": 65,
   "metadata": {},
   "outputs": [],
   "source": [
    "CAGR = ((EV / BV) ** (1 / 5)) - 1"
   ]
  },
  {
   "cell_type": "code",
   "execution_count": 66,
   "metadata": {},
   "outputs": [],
   "source": [
    "CAGR_pehle = round(CAGR, 4) "
   ]
  },
  {
   "cell_type": "code",
   "execution_count": 67,
   "metadata": {},
   "outputs": [],
   "source": [
    "# CAGR in %\n",
    "CAGR = CAGR_pehle * 100"
   ]
  },
  {
   "cell_type": "code",
   "execution_count": 94,
   "metadata": {},
   "outputs": [],
   "source": [
    "# User Input\n",
    "# Optional\n",
    "contrib = 0\n",
    "reinvested = True\n",
    "taxed = False\n",
    "\n",
    "# Required parameters\n",
    "n_of_years = 5\n",
    "start_balance = 1500\n",
    "symbol = 'MMM'\n",
    "\n",
    "# Calculated\n",
    "share_price = EV # EV\n",
    "stock_increase = CAGR # % # CAGR\n",
    "div_growth = DGR # % # DGR (for 1 share)\n",
    "shares = start_balance // share_price\n",
    "D_initial = (dividends_by_year[2020] / 3) * 4 * shares# avg(values of current year) * 4\n",
    "D_final = D_initial\n",
    "tax_percent = 9"
   ]
  },
  {
   "cell_type": "code",
   "execution_count": 95,
   "metadata": {},
   "outputs": [
    {
     "output_type": "execute_result",
     "data": {
      "text/plain": [
       "11.131722702119587"
      ]
     },
     "metadata": {},
     "execution_count": 95
    }
   ],
   "source": [
    "DGR"
   ]
  },
  {
   "cell_type": "code",
   "execution_count": 96,
   "metadata": {},
   "outputs": [
    {
     "output_type": "stream",
     "name": "stdout",
     "text": [
      "1500 - 9.246 - 162.23 - 52.05 - 52.92 - 1604.97\n1604.97 - 9.561 - 167.86 - 55.69 - 58.81 - 1719.47\n1719.47 - 9.9 - 173.68 - 59.67 - 65.36 - 1844.5\n1844.5 - 10.264 - 179.71 - 64.0 - 72.63 - 1981.13\n1981.13 - 10.654 - 185.95 - 68.75 - 80.72 - 2130.6\n"
     ]
    }
   ],
   "source": [
    "for _ in range(n_of_years):\n",
    "    shares = round(start_balance / share_price, 3)\n",
    "    growth = round((stock_increase / 100) * start_balance, 2)\n",
    "    end_balance = round(start_balance + contrib * 12 + growth, 2)\n",
    "\n",
    "    if reinvested:\n",
    "        if taxed:\n",
    "            end_balance += D_final - (tax_percent / 100) * D_final \n",
    "            # print((tax_percent / 100) * D_final, \" cut from \", D_final)\n",
    "        else:\n",
    "            end_balance += D_final\n",
    "\n",
    "\n",
    "    print(f\"{round(start_balance, 2)} - {shares} - {share_price} - {growth} - {round(D_final, 2)} - {round(end_balance, 2)}\")\n",
    "\n",
    "    start_balance = end_balance\n",
    "    share_price = round(share_price + (stock_increase / 100) * share_price, 2)\n",
    "    D_initial = D_final\n",
    "    D_final = (1 + (div_growth / 100)) * D_initial"
   ]
  },
  {
   "cell_type": "code",
   "execution_count": 70,
   "metadata": {},
   "outputs": [
    {
     "output_type": "execute_result",
     "data": {
      "text/plain": [
       "3.47"
      ]
     },
     "metadata": {},
     "execution_count": 70
    }
   ],
   "source": [
    "CAGR"
   ]
  },
  {
   "cell_type": "code",
   "execution_count": 71,
   "metadata": {},
   "outputs": [
    {
     "output_type": "execute_result",
     "data": {
      "text/plain": [
       "5.88"
      ]
     },
     "metadata": {},
     "execution_count": 71
    }
   ],
   "source": [
    "1.47 * 4"
   ]
  },
  {
   "cell_type": "code",
   "execution_count": null,
   "metadata": {},
   "outputs": [],
   "source": []
  }
 ]
}